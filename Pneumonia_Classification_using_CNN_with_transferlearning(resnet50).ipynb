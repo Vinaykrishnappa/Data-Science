{
  "cells": [
    {
      "cell_type": "code",
      "execution_count": 1,
      "metadata": {
        "id": "0cb3b8c4"
      },
      "outputs": [],
      "source": [
        "from keras.models import Sequential\n",
        "from keras.layers import Conv2D\n",
        "from keras.layers import Flatten\n",
        "from keras. layers import MaxPooling2D\n",
        "from keras.layers import Dense\n",
        "import numpy as np\n",
        "from keras.layers import Dropout\n",
        "import tensorflow as tf"
      ],
      "id": "0cb3b8c4"
    },
    {
      "cell_type": "code",
      "execution_count": 2,
      "metadata": {
        "colab": {
          "base_uri": "https://localhost:8080/"
        },
        "id": "s8LhuEElW-Fq",
        "outputId": "312f8381-4ac6-4b2b-a1e8-7efc89a0e7ab"
      },
      "outputs": [
        {
          "output_type": "stream",
          "name": "stdout",
          "text": [
            "Mounted at /content/drive\n"
          ]
        }
      ],
      "source": [
        "from google.colab import drive\n",
        "drive.mount('/content/drive')"
      ],
      "id": "s8LhuEElW-Fq"
    },
    {
      "cell_type": "code",
      "source": [
        "from keras.preprocessing.image import ImageDataGenerator\n",
        "train_datagen = ImageDataGenerator(rescale = 1./255,shear_range = 0.2,zoom_range = 0.4,horizontal_flip = True)\n",
        "test_datagen = ImageDataGenerator(rescale = 1./255)\n",
        "training_set =train_datagen.flow_from_directory('/content/drive/MyDrive/pneunomia_data/chest_xray/train',target_size = (64, 64),batch_size = 8,class_mode = 'sparse')\n",
        "test_set = test_datagen.flow_from_directory('/content/drive/MyDrive/pneunomia_data/chest_xray/test',target_size = (64, 64),batch_size = 8,class_mode = 'sparse')"
      ],
      "metadata": {
        "colab": {
          "base_uri": "https://localhost:8080/"
        },
        "id": "sW-wOjQxGTdQ",
        "outputId": "5b9f1140-5b84-44f4-ec5b-6e6381565516"
      },
      "id": "sW-wOjQxGTdQ",
      "execution_count": 3,
      "outputs": [
        {
          "output_type": "stream",
          "name": "stdout",
          "text": [
            "Found 5216 images belonging to 2 classes.\n",
            "Found 624 images belonging to 2 classes.\n"
          ]
        }
      ]
    },
    {
      "cell_type": "code",
      "source": [
        "model_transfer = Sequential()\n",
        "pre_model = tf.keras.applications.ResNet50(\n",
        "    include_top=False,\n",
        "    weights=\"imagenet\",\n",
        "    input_shape=(64, 64, 3),\n",
        "    pooling='avg',  # Change to 'avg'\n",
        "    classes=1,  # Change to 1 for binary classification\n",
        ")\n",
        "\n",
        "for layer in pre_model.layers:\n",
        "    layer.trainable = False\n",
        "\n",
        "model_transfer.add(pre_model)\n",
        "model_transfer.add(Flatten())\n",
        "model_transfer.add(Dense(units=128, activation='relu'))\n",
        "model_transfer.add(Dense(units=1, activation='sigmoid'))  # Change to sigmoid for binary classification\n",
        "model_transfer.summary()\n"
      ],
      "metadata": {
        "colab": {
          "base_uri": "https://localhost:8080/"
        },
        "id": "6vvO2uqWSQgy",
        "outputId": "13d5b34e-84db-49fc-f25d-962788e6b103"
      },
      "id": "6vvO2uqWSQgy",
      "execution_count": 4,
      "outputs": [
        {
          "output_type": "stream",
          "name": "stdout",
          "text": [
            "Downloading data from https://storage.googleapis.com/tensorflow/keras-applications/resnet/resnet50_weights_tf_dim_ordering_tf_kernels_notop.h5\n",
            "94765736/94765736 [==============================] - 1s 0us/step\n",
            "Model: \"sequential\"\n",
            "_________________________________________________________________\n",
            " Layer (type)                Output Shape              Param #   \n",
            "=================================================================\n",
            " resnet50 (Functional)       (None, 2048)              23587712  \n",
            "                                                                 \n",
            " flatten (Flatten)           (None, 2048)              0         \n",
            "                                                                 \n",
            " dense (Dense)               (None, 128)               262272    \n",
            "                                                                 \n",
            " dense_1 (Dense)             (None, 1)                 129       \n",
            "                                                                 \n",
            "=================================================================\n",
            "Total params: 23850113 (90.98 MB)\n",
            "Trainable params: 262401 (1.00 MB)\n",
            "Non-trainable params: 23587712 (89.98 MB)\n",
            "_________________________________________________________________\n"
          ]
        }
      ]
    },
    {
      "cell_type": "code",
      "source": [
        "model_transfer.compile(optimizer='adam',loss='binary_crossentropy',metrics=['accuracy'])"
      ],
      "metadata": {
        "id": "jro5qxoJGJKy"
      },
      "id": "jro5qxoJGJKy",
      "execution_count": 5,
      "outputs": []
    },
    {
      "cell_type": "code",
      "source": [
        "history=model_transfer.fit(training_set ,steps_per_epoch=10 ,epochs = 30)"
      ],
      "metadata": {
        "colab": {
          "base_uri": "https://localhost:8080/"
        },
        "id": "qaw_YTwJGhby",
        "outputId": "eb3a0152-43d1-41a6-d7ec-d84e206f00f7"
      },
      "id": "qaw_YTwJGhby",
      "execution_count": 6,
      "outputs": [
        {
          "output_type": "stream",
          "name": "stdout",
          "text": [
            "Epoch 1/30\n",
            "10/10 [==============================] - 166s 18s/step - loss: 0.6197 - accuracy: 0.7750\n",
            "Epoch 2/30\n",
            "10/10 [==============================] - 12s 1s/step - loss: 0.6805 - accuracy: 0.6500\n",
            "Epoch 3/30\n",
            "10/10 [==============================] - 8s 680ms/step - loss: 0.6310 - accuracy: 0.7000\n",
            "Epoch 4/30\n",
            "10/10 [==============================] - 10s 1s/step - loss: 0.6403 - accuracy: 0.7000\n",
            "Epoch 5/30\n",
            "10/10 [==============================] - 8s 837ms/step - loss: 0.5062 - accuracy: 0.7750\n",
            "Epoch 6/30\n",
            "10/10 [==============================] - 6s 461ms/step - loss: 0.5262 - accuracy: 0.8000\n",
            "Epoch 7/30\n",
            "10/10 [==============================] - 10s 981ms/step - loss: 0.5879 - accuracy: 0.7125\n",
            "Epoch 8/30\n",
            "10/10 [==============================] - 8s 773ms/step - loss: 0.4929 - accuracy: 0.7750\n",
            "Epoch 9/30\n",
            "10/10 [==============================] - 7s 679ms/step - loss: 0.5093 - accuracy: 0.7500\n",
            "Epoch 10/30\n",
            "10/10 [==============================] - 12s 1s/step - loss: 0.6317 - accuracy: 0.6375\n",
            "Epoch 11/30\n",
            "10/10 [==============================] - 7s 698ms/step - loss: 0.5741 - accuracy: 0.7750\n",
            "Epoch 12/30\n",
            "10/10 [==============================] - 8s 822ms/step - loss: 0.5419 - accuracy: 0.7375\n",
            "Epoch 13/30\n",
            "10/10 [==============================] - 6s 546ms/step - loss: 0.4942 - accuracy: 0.7750\n",
            "Epoch 14/30\n",
            "10/10 [==============================] - 6s 663ms/step - loss: 0.5313 - accuracy: 0.7250\n",
            "Epoch 15/30\n",
            "10/10 [==============================] - 8s 760ms/step - loss: 0.5488 - accuracy: 0.6875\n",
            "Epoch 16/30\n",
            "10/10 [==============================] - 9s 801ms/step - loss: 0.4969 - accuracy: 0.7875\n",
            "Epoch 17/30\n",
            "10/10 [==============================] - 4s 425ms/step - loss: 0.4229 - accuracy: 0.8250\n",
            "Epoch 18/30\n",
            "10/10 [==============================] - 5s 523ms/step - loss: 0.4789 - accuracy: 0.7750\n",
            "Epoch 19/30\n",
            "10/10 [==============================] - 6s 661ms/step - loss: 0.4188 - accuracy: 0.8250\n",
            "Epoch 20/30\n",
            "10/10 [==============================] - 6s 593ms/step - loss: 0.4472 - accuracy: 0.7875\n",
            "Epoch 21/30\n",
            "10/10 [==============================] - 6s 647ms/step - loss: 0.4329 - accuracy: 0.8000\n",
            "Epoch 22/30\n",
            "10/10 [==============================] - 6s 554ms/step - loss: 0.4564 - accuracy: 0.8125\n",
            "Epoch 23/30\n",
            "10/10 [==============================] - 7s 656ms/step - loss: 0.5181 - accuracy: 0.7375\n",
            "Epoch 24/30\n",
            "10/10 [==============================] - 6s 568ms/step - loss: 0.4382 - accuracy: 0.8375\n",
            "Epoch 25/30\n",
            "10/10 [==============================] - 6s 565ms/step - loss: 0.4901 - accuracy: 0.7750\n",
            "Epoch 26/30\n",
            "10/10 [==============================] - 7s 673ms/step - loss: 0.5317 - accuracy: 0.7125\n",
            "Epoch 27/30\n",
            "10/10 [==============================] - 6s 614ms/step - loss: 0.4815 - accuracy: 0.7625\n",
            "Epoch 28/30\n",
            "10/10 [==============================] - 6s 636ms/step - loss: 0.4799 - accuracy: 0.7625\n",
            "Epoch 29/30\n",
            "10/10 [==============================] - 5s 519ms/step - loss: 0.4513 - accuracy: 0.7875\n",
            "Epoch 30/30\n",
            "10/10 [==============================] - 5s 559ms/step - loss: 0.4138 - accuracy: 0.8000\n"
          ]
        }
      ]
    },
    {
      "cell_type": "code",
      "source": [
        "import matplotlib.pyplot as plt\n",
        "\n",
        "# Get training history\n",
        "train_loss = history.history['loss']\n",
        "train_accuracy = history.history['accuracy']\n",
        "\n",
        "\n",
        "\n",
        "# Plot loss and accuracy on the same graph\n",
        "\n",
        "plt.plot(train_loss, label='Training Loss')\n",
        "plt.plot(train_accuracy, label='Training Accuracy')\n",
        "\n",
        "\n",
        "\n",
        "plt.xlabel('Epochs')\n",
        "plt.ylabel('Value')\n",
        "plt.title('Loss and Accuracy during Training of resNet50')\n",
        "plt.legend()\n",
        "plt.show()"
      ],
      "metadata": {
        "colab": {
          "base_uri": "https://localhost:8080/",
          "height": 472
        },
        "id": "wvYZKLu1TQAD",
        "outputId": "39155caf-ca9a-41b2-a4ea-65644a2174e3"
      },
      "id": "wvYZKLu1TQAD",
      "execution_count": 7,
      "outputs": [
        {
          "output_type": "display_data",
          "data": {
            "text/plain": [
              "<Figure size 640x480 with 1 Axes>"
            ],
            "image/png": "[encoded data removed]"
          },
          "metadata": {}
        }
      ]
    },
    {
      "cell_type": "code",
      "source": [
        "# Evaluate the model\n",
        "test_loss, test_accuracy = model_transfer.evaluate(test_set )\n",
        "print(f'Test Loss: {test_loss}')\n",
        "print(f'Test Accuracy: {test_accuracy}')"
      ],
      "metadata": {
        "colab": {
          "base_uri": "https://localhost:8080/"
        },
        "id": "SrLUCXTaTXra",
        "outputId": "98493ae0-89b2-4aae-f7fa-c0cda5651295"
      },
      "id": "SrLUCXTaTXra",
      "execution_count": 8,
      "outputs": [
        {
          "output_type": "stream",
          "name": "stdout",
          "text": [
            "78/78 [==============================] - 202s 3s/step - loss: 0.4299 - accuracy: 0.8205\n",
            "Test Loss: 0.429871529340744\n",
            "Test Accuracy: 0.8205128312110901\n"
          ]
        }
      ]
    },
    {
      "cell_type": "code",
      "source": [
        "import numpy as np\n",
        "from keras.preprocessing import image\n",
        "from keras.models import load_model\n",
        "\n",
        "# Load and preprocess the test image\n",
        "test_image = image.load_img('/content/drive/MyDrive/pneunomia_data/chest_xray/test/PNEUMONIA/person103_bacteria_488.jpeg', target_size=(64, 64))\n",
        "test_image = image.img_to_array(test_image)\n",
        "\n",
        "# Normalize pixel values to [0, 1]\n",
        "test_image /= 255.0\n",
        "\n",
        "# Expand dimensions to match model input shape\n",
        "test_image = np.expand_dims(test_image, axis=0)\n",
        "\n",
        "# Make a prediction\n",
        "classes = model_transfer.predict(test_image, batch_size=10)\n",
        "\n",
        "# Debugging Information\n",
        "print(\"Shape of test_image:\", test_image.shape)\n",
        "print(\"Raw Predictions:\", classes)\n",
        "\n",
        "# Check the prediction result using a threshold of 0.5\n",
        "if classes[0] >= 0.5:\n",
        "    print(\"Pneumonia\")\n",
        "else:\n",
        "    print(\"Normal\")\n"
      ],
      "metadata": {
        "colab": {
          "base_uri": "https://localhost:8080/"
        },
        "id": "3NWVGg6cG0PO",
        "outputId": "36cbe14e-76fb-41a7-b6d6-3a4122ec0b2f"
      },
      "id": "3NWVGg6cG0PO",
      "execution_count": 9,
      "outputs": [
        {
          "output_type": "stream",
          "name": "stdout",
          "text": [
            "1/1 [==============================] - 1s 1s/step\n",
            "Shape of test_image: (1, 64, 64, 3)\n",
            "Raw Predictions: [[0.7834322]]\n",
            "Pneumonia\n"
          ]
        }
      ]
    }
  ],
  "metadata": {
    "accelerator": "GPU",
    "colab": {
      "provenance": [],
      "gpuType": "T4"
    },
    "kernelspec": {
      "display_name": "Python 3",
      "name": "python3"
    },
    "language_info": {
      "codemirror_mode": {
        "name": "ipython",
        "version": 3
      },
      "file_extension": ".py",
      "mimetype": "text/x-python",
      "name": "python",
      "nbconvert_exporter": "python",
      "pygments_lexer": "ipython3",
      "version": "3.8.8"
    }
  },
  "nbformat": 4,
  "nbformat_minor": 5
}